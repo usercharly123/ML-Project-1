{
 "cells": [
  {
   "cell_type": "markdown",
   "metadata": {},
   "source": [
    "# Imports"
   ]
  },
  {
   "cell_type": "code",
   "execution_count": null,
   "metadata": {},
   "outputs": [],
   "source": [
    "from implementations import *\n",
    "from helpers import load_csv_data, create_csv_submission\n",
    "from models import *"
   ]
  },
  {
   "cell_type": "markdown",
   "metadata": {},
   "source": [
    "# Load dataset"
   ]
  },
  {
   "cell_type": "code",
   "execution_count": 3,
   "metadata": {},
   "outputs": [],
   "source": [
    "# load dataset\n",
    "x_train, x_test, y_train, train_ids, test_ids = load_csv_data(\"dataset\", sub_sample=True)\n"
   ]
  },
  {
   "cell_type": "markdown",
   "metadata": {},
   "source": [
    "# Baseline (only using BPHIGH4)"
   ]
  },
  {
   "cell_type": "code",
   "execution_count": null,
   "metadata": {},
   "outputs": [],
   "source": [
    "y_test_pred_base= baseline_bphig4(x_test) # to generate the baseline based on bphigh4 column only\n",
    "create_csv_submission(test_ids, y_test_pred_base, 'baseline bphig4.csv')"
   ]
  },
  {
   "cell_type": "markdown",
   "metadata": {},
   "source": [
    "# Model on selected variables (based on graphical EDA)"
   ]
  },
  {
   "cell_type": "code",
   "execution_count": 19,
   "metadata": {},
   "outputs": [],
   "source": [
    "# selected variables\n",
    "sel = [26, 33, 34, 72, 77, 248, 289, 290, 313, 314, 315]\n",
    "\n",
    "w_reg_log_sel,_,_,_,_=reg_log_reg_test(y_train,x_train[:,sel],0.001,np.zeros(len(sel)),100,0.5) # to generate the reg_log prediction on selected variables\n",
    "y_test_pred_log_sel = pred_0to1(class_0(standardize(nan_to_zero(x_test[:,sel])).dot(w_reg_log_sel)))\n",
    "create_csv_submission(test_ids, y_test_pred_log_sel, 'reg_log sel.csv')"
   ]
  },
  {
   "cell_type": "markdown",
   "metadata": {},
   "source": [
    "# Adding features"
   ]
  },
  {
   "cell_type": "code",
   "execution_count": null,
   "metadata": {},
   "outputs": [],
   "source": []
  }
 ],
 "metadata": {
  "kernelspec": {
   "display_name": "Python 3",
   "language": "python",
   "name": "python3"
  },
  "language_info": {
   "codemirror_mode": {
    "name": "ipython",
    "version": 3
   },
   "file_extension": ".py",
   "mimetype": "text/x-python",
   "name": "python",
   "nbconvert_exporter": "python",
   "pygments_lexer": "ipython3",
   "version": "3.10.11"
  }
 },
 "nbformat": 4,
 "nbformat_minor": 2
}
